{
  "nbformat": 4,
  "nbformat_minor": 0,
  "metadata": {
    "colab": {
      "name": "SARIMA.ipynb",
      "provenance": [],
      "collapsed_sections": []
    },
    "kernelspec": {
      "name": "python3",
      "display_name": "Python 3"
    },
    "language_info": {
      "name": "python"
    }
  },
  "cells": [
    {
      "cell_type": "code",
      "metadata": {
        "id": "Df1iRvALap6K"
      },
      "source": [
        "import numpy as npn\n",
        "import matplotlib.pyplot as plt\n",
        "import statsmodels.api as sm\n",
        "import pandas as pd\n",
        "import math\n",
        "import datetime\n",
        "import seaborn as sns\n",
        "from keras.models import Sequential\n",
        "from keras.layers import Dense\n",
        "from keras.layers import LSTM\n",
        "from sklearn.preprocessing import MinMaxScaler\n",
        "from sklearn.metrics import mean_squared_error"
      ],
      "execution_count": 15,
      "outputs": []
    },
    {
      "cell_type": "code",
      "metadata": {
        "id": "WWAOou4Mbu7G",
        "colab": {
          "base_uri": "https://localhost:8080/",
          "height": 204
        },
        "outputId": "cf3db548-e6bb-4c3a-c23b-4d3aec70a864"
      },
      "source": [
        "df = pd.read_csv('https://raw.githubusercontent.com/xxiang27/sikkaAIHackathon/main/data_file.csv')\n",
        "df.head()"
      ],
      "execution_count": 2,
      "outputs": [
        {
          "output_type": "execute_result",
          "data": {
            "text/html": [
              "<div>\n",
              "<style scoped>\n",
              "    .dataframe tbody tr th:only-of-type {\n",
              "        vertical-align: middle;\n",
              "    }\n",
              "\n",
              "    .dataframe tbody tr th {\n",
              "        vertical-align: top;\n",
              "    }\n",
              "\n",
              "    .dataframe thead th {\n",
              "        text-align: right;\n",
              "    }\n",
              "</style>\n",
              "<table border=\"1\" class=\"dataframe\">\n",
              "  <thead>\n",
              "    <tr style=\"text-align: right;\">\n",
              "      <th></th>\n",
              "      <th>id</th>\n",
              "      <th>month</th>\n",
              "      <th>year</th>\n",
              "      <th>visits</th>\n",
              "      <th>no_of_appts</th>\n",
              "      <th>production</th>\n",
              "    </tr>\n",
              "  </thead>\n",
              "  <tbody>\n",
              "    <tr>\n",
              "      <th>0</th>\n",
              "      <td>34</td>\n",
              "      <td>3</td>\n",
              "      <td>2014</td>\n",
              "      <td>1</td>\n",
              "      <td>960</td>\n",
              "      <td>76.55</td>\n",
              "    </tr>\n",
              "    <tr>\n",
              "      <th>1</th>\n",
              "      <td>34</td>\n",
              "      <td>4</td>\n",
              "      <td>2014</td>\n",
              "      <td>488</td>\n",
              "      <td>1089</td>\n",
              "      <td>106333.80</td>\n",
              "    </tr>\n",
              "    <tr>\n",
              "      <th>2</th>\n",
              "      <td>34</td>\n",
              "      <td>5</td>\n",
              "      <td>2014</td>\n",
              "      <td>831</td>\n",
              "      <td>993</td>\n",
              "      <td>192230.40</td>\n",
              "    </tr>\n",
              "    <tr>\n",
              "      <th>3</th>\n",
              "      <td>34</td>\n",
              "      <td>6</td>\n",
              "      <td>2014</td>\n",
              "      <td>753</td>\n",
              "      <td>884</td>\n",
              "      <td>163515.12</td>\n",
              "    </tr>\n",
              "    <tr>\n",
              "      <th>4</th>\n",
              "      <td>34</td>\n",
              "      <td>7</td>\n",
              "      <td>2014</td>\n",
              "      <td>721</td>\n",
              "      <td>797</td>\n",
              "      <td>160185.90</td>\n",
              "    </tr>\n",
              "  </tbody>\n",
              "</table>\n",
              "</div>"
            ],
            "text/plain": [
              "   id  month  year  visits  no_of_appts  production\n",
              "0  34      3  2014       1          960       76.55\n",
              "1  34      4  2014     488         1089   106333.80\n",
              "2  34      5  2014     831          993   192230.40\n",
              "3  34      6  2014     753          884   163515.12\n",
              "4  34      7  2014     721          797   160185.90"
            ]
          },
          "metadata": {
            "tags": []
          },
          "execution_count": 2
        }
      ]
    },
    {
      "cell_type": "code",
      "metadata": {
        "colab": {
          "base_uri": "https://localhost:8080/"
        },
        "id": "5jQFsdrgZQ2W",
        "outputId": "3da6334d-0d98-40f2-b00e-a6efc39d9a8c"
      },
      "source": [
        "df['day'] = 1\n",
        "dates = pd.to_datetime(df[['month', 'year','day']].copy())\n",
        "dates.head()"
      ],
      "execution_count": 3,
      "outputs": [
        {
          "output_type": "execute_result",
          "data": {
            "text/plain": [
              "0   2014-03-01\n",
              "1   2014-04-01\n",
              "2   2014-05-01\n",
              "3   2014-06-01\n",
              "4   2014-07-01\n",
              "dtype: datetime64[ns]"
            ]
          },
          "metadata": {
            "tags": []
          },
          "execution_count": 3
        }
      ]
    },
    {
      "cell_type": "code",
      "metadata": {
        "id": "xRozvsf7ZQJq"
      },
      "source": [
        "def turntoDate(df):\n",
        "  lst = []\n",
        "  for i in range(len(df)):\n",
        "    lst.append(pd.Timestamp(year = df.loc[i, 'year'], month = df.loc[i, 'month'], day=None))\n",
        "  df['date'] = lst\n",
        "  return df"
      ],
      "execution_count": 4,
      "outputs": []
    },
    {
      "cell_type": "code",
      "metadata": {
        "colab": {
          "base_uri": "https://localhost:8080/",
          "height": 204
        },
        "id": "kVA-USAXZP9k",
        "outputId": "4156f7e1-5fd7-4d17-f721-b82caba35a30"
      },
      "source": [
        "df_final = pd.concat([dates, df],axis=1)\n",
        "df_final = df_final.drop(columns = ['month', 'year', 'day'])\n",
        "df_final.head()"
      ],
      "execution_count": 5,
      "outputs": [
        {
          "output_type": "execute_result",
          "data": {
            "text/html": [
              "<div>\n",
              "<style scoped>\n",
              "    .dataframe tbody tr th:only-of-type {\n",
              "        vertical-align: middle;\n",
              "    }\n",
              "\n",
              "    .dataframe tbody tr th {\n",
              "        vertical-align: top;\n",
              "    }\n",
              "\n",
              "    .dataframe thead th {\n",
              "        text-align: right;\n",
              "    }\n",
              "</style>\n",
              "<table border=\"1\" class=\"dataframe\">\n",
              "  <thead>\n",
              "    <tr style=\"text-align: right;\">\n",
              "      <th></th>\n",
              "      <th>0</th>\n",
              "      <th>id</th>\n",
              "      <th>visits</th>\n",
              "      <th>no_of_appts</th>\n",
              "      <th>production</th>\n",
              "    </tr>\n",
              "  </thead>\n",
              "  <tbody>\n",
              "    <tr>\n",
              "      <th>0</th>\n",
              "      <td>2014-03-01</td>\n",
              "      <td>34</td>\n",
              "      <td>1</td>\n",
              "      <td>960</td>\n",
              "      <td>76.55</td>\n",
              "    </tr>\n",
              "    <tr>\n",
              "      <th>1</th>\n",
              "      <td>2014-04-01</td>\n",
              "      <td>34</td>\n",
              "      <td>488</td>\n",
              "      <td>1089</td>\n",
              "      <td>106333.80</td>\n",
              "    </tr>\n",
              "    <tr>\n",
              "      <th>2</th>\n",
              "      <td>2014-05-01</td>\n",
              "      <td>34</td>\n",
              "      <td>831</td>\n",
              "      <td>993</td>\n",
              "      <td>192230.40</td>\n",
              "    </tr>\n",
              "    <tr>\n",
              "      <th>3</th>\n",
              "      <td>2014-06-01</td>\n",
              "      <td>34</td>\n",
              "      <td>753</td>\n",
              "      <td>884</td>\n",
              "      <td>163515.12</td>\n",
              "    </tr>\n",
              "    <tr>\n",
              "      <th>4</th>\n",
              "      <td>2014-07-01</td>\n",
              "      <td>34</td>\n",
              "      <td>721</td>\n",
              "      <td>797</td>\n",
              "      <td>160185.90</td>\n",
              "    </tr>\n",
              "  </tbody>\n",
              "</table>\n",
              "</div>"
            ],
            "text/plain": [
              "           0  id  visits  no_of_appts  production\n",
              "0 2014-03-01  34       1          960       76.55\n",
              "1 2014-04-01  34     488         1089   106333.80\n",
              "2 2014-05-01  34     831          993   192230.40\n",
              "3 2014-06-01  34     753          884   163515.12\n",
              "4 2014-07-01  34     721          797   160185.90"
            ]
          },
          "metadata": {
            "tags": []
          },
          "execution_count": 5
        }
      ]
    },
    {
      "cell_type": "code",
      "metadata": {
        "id": "Hpd-H7heZPqR"
      },
      "source": [
        "# separate dataframe into separate dataframes for each practice \n",
        "\n",
        "import math \n",
        "\n",
        "def separate(df):\n",
        "  '''takes a dataframe returns a list of dataframes, \n",
        "  one for each unique value under the id column'''\n",
        "  lst = []\n",
        "  grouped = df.groupby(df.id)\n",
        "  for i in range(1, 285):\n",
        "    lst.append(grouped.get_group(i))\n",
        "  return lst \n",
        "\n",
        "def train_test_split(lst, add_test):\n",
        "  '''takes a list of dataframes and returns the time series train and test split based on the percent'''\n",
        "  test_set = []\n",
        "  for df in lst:\n",
        "    #add_test = math.floor(len(df) * percent)\n",
        "    #df_add = df.tail(add_test)\n",
        "    df_add = df.tail(add_test).copy()\n",
        "    test_set.append(df_add)\n",
        "    df.drop(df.tail(add_test).index, inplace = True)\n",
        "  df_train = pd.concat(lst, ignore_index=True)\n",
        "  df_test = pd.concat(test_set, ignore_index = True)\n",
        "  return df_train, df_test\n",
        "  "
      ],
      "execution_count": 6,
      "outputs": []
    },
    {
      "cell_type": "code",
      "metadata": {
        "colab": {
          "base_uri": "https://localhost:8080/"
        },
        "id": "EdGhvtO9Zk1Z",
        "outputId": "80befb66-90e0-47b4-87f6-a65b77729809"
      },
      "source": [
        "train_lst = separate(df_final)\n",
        "df_train, df_test = train_test_split(train_lst, 4)"
      ],
      "execution_count": 7,
      "outputs": [
        {
          "output_type": "stream",
          "text": [
            "/usr/local/lib/python3.7/dist-packages/pandas/core/frame.py:4174: SettingWithCopyWarning: \n",
            "A value is trying to be set on a copy of a slice from a DataFrame\n",
            "\n",
            "See the caveats in the documentation: https://pandas.pydata.org/pandas-docs/stable/user_guide/indexing.html#returning-a-view-versus-a-copy\n",
            "  errors=errors,\n"
          ],
          "name": "stderr"
        }
      ]
    },
    {
      "cell_type": "code",
      "metadata": {
        "colab": {
          "base_uri": "https://localhost:8080/",
          "height": 204
        },
        "id": "3NO_vh8-ZlJX",
        "outputId": "53b216a8-06aa-4a78-dbd7-f51c3774d3bb"
      },
      "source": [
        "first = df_train.loc[df_train['id'] ==  34]\n",
        "first.head()"
      ],
      "execution_count": 8,
      "outputs": [
        {
          "output_type": "execute_result",
          "data": {
            "text/html": [
              "<div>\n",
              "<style scoped>\n",
              "    .dataframe tbody tr th:only-of-type {\n",
              "        vertical-align: middle;\n",
              "    }\n",
              "\n",
              "    .dataframe tbody tr th {\n",
              "        vertical-align: top;\n",
              "    }\n",
              "\n",
              "    .dataframe thead th {\n",
              "        text-align: right;\n",
              "    }\n",
              "</style>\n",
              "<table border=\"1\" class=\"dataframe\">\n",
              "  <thead>\n",
              "    <tr style=\"text-align: right;\">\n",
              "      <th></th>\n",
              "      <th>0</th>\n",
              "      <th>id</th>\n",
              "      <th>visits</th>\n",
              "      <th>no_of_appts</th>\n",
              "      <th>production</th>\n",
              "    </tr>\n",
              "  </thead>\n",
              "  <tbody>\n",
              "    <tr>\n",
              "      <th>3034</th>\n",
              "      <td>2014-03-01</td>\n",
              "      <td>34</td>\n",
              "      <td>1</td>\n",
              "      <td>960</td>\n",
              "      <td>76.55</td>\n",
              "    </tr>\n",
              "    <tr>\n",
              "      <th>3035</th>\n",
              "      <td>2014-04-01</td>\n",
              "      <td>34</td>\n",
              "      <td>488</td>\n",
              "      <td>1089</td>\n",
              "      <td>106333.80</td>\n",
              "    </tr>\n",
              "    <tr>\n",
              "      <th>3036</th>\n",
              "      <td>2014-05-01</td>\n",
              "      <td>34</td>\n",
              "      <td>831</td>\n",
              "      <td>993</td>\n",
              "      <td>192230.40</td>\n",
              "    </tr>\n",
              "    <tr>\n",
              "      <th>3037</th>\n",
              "      <td>2014-06-01</td>\n",
              "      <td>34</td>\n",
              "      <td>753</td>\n",
              "      <td>884</td>\n",
              "      <td>163515.12</td>\n",
              "    </tr>\n",
              "    <tr>\n",
              "      <th>3038</th>\n",
              "      <td>2014-07-01</td>\n",
              "      <td>34</td>\n",
              "      <td>721</td>\n",
              "      <td>797</td>\n",
              "      <td>160185.90</td>\n",
              "    </tr>\n",
              "  </tbody>\n",
              "</table>\n",
              "</div>"
            ],
            "text/plain": [
              "              0  id  visits  no_of_appts  production\n",
              "3034 2014-03-01  34       1          960       76.55\n",
              "3035 2014-04-01  34     488         1089   106333.80\n",
              "3036 2014-05-01  34     831          993   192230.40\n",
              "3037 2014-06-01  34     753          884   163515.12\n",
              "3038 2014-07-01  34     721          797   160185.90"
            ]
          },
          "metadata": {
            "tags": []
          },
          "execution_count": 8
        }
      ]
    },
    {
      "cell_type": "code",
      "metadata": {
        "colab": {
          "base_uri": "https://localhost:8080/",
          "height": 235
        },
        "id": "4aLI1YXIZtK_",
        "outputId": "af396958-6b22-4196-e8e8-e0896edea8ca"
      },
      "source": [
        "first.set_index(0, inplace=True)\n",
        "first.head()"
      ],
      "execution_count": 9,
      "outputs": [
        {
          "output_type": "execute_result",
          "data": {
            "text/html": [
              "<div>\n",
              "<style scoped>\n",
              "    .dataframe tbody tr th:only-of-type {\n",
              "        vertical-align: middle;\n",
              "    }\n",
              "\n",
              "    .dataframe tbody tr th {\n",
              "        vertical-align: top;\n",
              "    }\n",
              "\n",
              "    .dataframe thead th {\n",
              "        text-align: right;\n",
              "    }\n",
              "</style>\n",
              "<table border=\"1\" class=\"dataframe\">\n",
              "  <thead>\n",
              "    <tr style=\"text-align: right;\">\n",
              "      <th></th>\n",
              "      <th>id</th>\n",
              "      <th>visits</th>\n",
              "      <th>no_of_appts</th>\n",
              "      <th>production</th>\n",
              "    </tr>\n",
              "    <tr>\n",
              "      <th>0</th>\n",
              "      <th></th>\n",
              "      <th></th>\n",
              "      <th></th>\n",
              "      <th></th>\n",
              "    </tr>\n",
              "  </thead>\n",
              "  <tbody>\n",
              "    <tr>\n",
              "      <th>2014-03-01</th>\n",
              "      <td>34</td>\n",
              "      <td>1</td>\n",
              "      <td>960</td>\n",
              "      <td>76.55</td>\n",
              "    </tr>\n",
              "    <tr>\n",
              "      <th>2014-04-01</th>\n",
              "      <td>34</td>\n",
              "      <td>488</td>\n",
              "      <td>1089</td>\n",
              "      <td>106333.80</td>\n",
              "    </tr>\n",
              "    <tr>\n",
              "      <th>2014-05-01</th>\n",
              "      <td>34</td>\n",
              "      <td>831</td>\n",
              "      <td>993</td>\n",
              "      <td>192230.40</td>\n",
              "    </tr>\n",
              "    <tr>\n",
              "      <th>2014-06-01</th>\n",
              "      <td>34</td>\n",
              "      <td>753</td>\n",
              "      <td>884</td>\n",
              "      <td>163515.12</td>\n",
              "    </tr>\n",
              "    <tr>\n",
              "      <th>2014-07-01</th>\n",
              "      <td>34</td>\n",
              "      <td>721</td>\n",
              "      <td>797</td>\n",
              "      <td>160185.90</td>\n",
              "    </tr>\n",
              "  </tbody>\n",
              "</table>\n",
              "</div>"
            ],
            "text/plain": [
              "            id  visits  no_of_appts  production\n",
              "0                                              \n",
              "2014-03-01  34       1          960       76.55\n",
              "2014-04-01  34     488         1089   106333.80\n",
              "2014-05-01  34     831          993   192230.40\n",
              "2014-06-01  34     753          884   163515.12\n",
              "2014-07-01  34     721          797   160185.90"
            ]
          },
          "metadata": {
            "tags": []
          },
          "execution_count": 9
        }
      ]
    },
    {
      "cell_type": "code",
      "metadata": {
        "colab": {
          "base_uri": "https://localhost:8080/",
          "height": 235
        },
        "id": "pCwAstVmXsdr",
        "outputId": "042021a8-8bc1-4faa-d0dd-184ac10bc6cc"
      },
      "source": [
        "Y= first.drop(columns = ['id', 'visits', 'no_of_appts'])\n",
        "Y.head()"
      ],
      "execution_count": 10,
      "outputs": [
        {
          "output_type": "execute_result",
          "data": {
            "text/html": [
              "<div>\n",
              "<style scoped>\n",
              "    .dataframe tbody tr th:only-of-type {\n",
              "        vertical-align: middle;\n",
              "    }\n",
              "\n",
              "    .dataframe tbody tr th {\n",
              "        vertical-align: top;\n",
              "    }\n",
              "\n",
              "    .dataframe thead th {\n",
              "        text-align: right;\n",
              "    }\n",
              "</style>\n",
              "<table border=\"1\" class=\"dataframe\">\n",
              "  <thead>\n",
              "    <tr style=\"text-align: right;\">\n",
              "      <th></th>\n",
              "      <th>production</th>\n",
              "    </tr>\n",
              "    <tr>\n",
              "      <th>0</th>\n",
              "      <th></th>\n",
              "    </tr>\n",
              "  </thead>\n",
              "  <tbody>\n",
              "    <tr>\n",
              "      <th>2014-03-01</th>\n",
              "      <td>76.55</td>\n",
              "    </tr>\n",
              "    <tr>\n",
              "      <th>2014-04-01</th>\n",
              "      <td>106333.80</td>\n",
              "    </tr>\n",
              "    <tr>\n",
              "      <th>2014-05-01</th>\n",
              "      <td>192230.40</td>\n",
              "    </tr>\n",
              "    <tr>\n",
              "      <th>2014-06-01</th>\n",
              "      <td>163515.12</td>\n",
              "    </tr>\n",
              "    <tr>\n",
              "      <th>2014-07-01</th>\n",
              "      <td>160185.90</td>\n",
              "    </tr>\n",
              "  </tbody>\n",
              "</table>\n",
              "</div>"
            ],
            "text/plain": [
              "            production\n",
              "0                     \n",
              "2014-03-01       76.55\n",
              "2014-04-01   106333.80\n",
              "2014-05-01   192230.40\n",
              "2014-06-01   163515.12\n",
              "2014-07-01   160185.90"
            ]
          },
          "metadata": {
            "tags": []
          },
          "execution_count": 10
        }
      ]
    },
    {
      "cell_type": "code",
      "metadata": {
        "id": "n54M8Si0aVgy"
      },
      "source": [
        "X = first.drop(columns = ['id','production', 'no_of_appts'])"
      ],
      "execution_count": 11,
      "outputs": []
    },
    {
      "cell_type": "code",
      "metadata": {
        "colab": {
          "base_uri": "https://localhost:8080/"
        },
        "id": "mRNvNcvDcJBe",
        "outputId": "70e37b08-a19f-4102-c178-ba7ac25cd93b"
      },
      "source": [
        "my_order = (1, 1, 1)\n",
        "my_seasonal_order = (1, 1, 1, 12)\n",
        "model = sm.tsa.statespace.SARIMAX(Y,order = my_order, seasonal_order = my_seasonal_order, enforce_stationarity=False, enforce_invertibility=False)\n",
        "model_fit = model.fit()"
      ],
      "execution_count": 12,
      "outputs": [
        {
          "output_type": "stream",
          "text": [
            "/usr/local/lib/python3.7/dist-packages/statsmodels/tsa/base/tsa_model.py:165: ValueWarning: No frequency information was provided, so inferred frequency MS will be used.\n",
            "  % freq, ValueWarning)\n"
          ],
          "name": "stderr"
        }
      ]
    },
    {
      "cell_type": "markdown",
      "metadata": {
        "id": "zpoMz64Pe2RA"
      },
      "source": [
        ""
      ]
    },
    {
      "cell_type": "code",
      "metadata": {
        "id": "enrRHcxveIsT"
      },
      "source": [
        "yhat = model_fit.predict(start = len(first), end = len(first)+3)"
      ],
      "execution_count": 22,
      "outputs": []
    },
    {
      "cell_type": "code",
      "metadata": {
        "id": "la_5R9kaai9q",
        "colab": {
          "base_uri": "https://localhost:8080/"
        },
        "outputId": "191463f7-fa76-460c-cac7-cce6f82ce4fe"
      },
      "source": [
        "yhat"
      ],
      "execution_count": 23,
      "outputs": [
        {
          "output_type": "execute_result",
          "data": {
            "text/plain": [
              "2020-09-01    233249.687075\n",
              "2020-10-01    245999.427856\n",
              "2020-11-01    204808.534201\n",
              "2020-12-01    216614.155380\n",
              "Freq: MS, dtype: float64"
            ]
          },
          "metadata": {
            "tags": []
          },
          "execution_count": 23
        }
      ]
    },
    {
      "cell_type": "code",
      "metadata": {
        "colab": {
          "base_uri": "https://localhost:8080/",
          "height": 450
        },
        "id": "5CyFe5FTnW0w",
        "outputId": "20e87fbb-46f6-4e85-8862-8f94893df44b"
      },
      "source": [
        "first"
      ],
      "execution_count": 21,
      "outputs": [
        {
          "output_type": "execute_result",
          "data": {
            "text/html": [
              "<div>\n",
              "<style scoped>\n",
              "    .dataframe tbody tr th:only-of-type {\n",
              "        vertical-align: middle;\n",
              "    }\n",
              "\n",
              "    .dataframe tbody tr th {\n",
              "        vertical-align: top;\n",
              "    }\n",
              "\n",
              "    .dataframe thead th {\n",
              "        text-align: right;\n",
              "    }\n",
              "</style>\n",
              "<table border=\"1\" class=\"dataframe\">\n",
              "  <thead>\n",
              "    <tr style=\"text-align: right;\">\n",
              "      <th></th>\n",
              "      <th>id</th>\n",
              "      <th>visits</th>\n",
              "      <th>no_of_appts</th>\n",
              "      <th>production</th>\n",
              "    </tr>\n",
              "    <tr>\n",
              "      <th>0</th>\n",
              "      <th></th>\n",
              "      <th></th>\n",
              "      <th></th>\n",
              "      <th></th>\n",
              "    </tr>\n",
              "  </thead>\n",
              "  <tbody>\n",
              "    <tr>\n",
              "      <th>2014-03-01</th>\n",
              "      <td>34</td>\n",
              "      <td>1</td>\n",
              "      <td>960</td>\n",
              "      <td>76.55</td>\n",
              "    </tr>\n",
              "    <tr>\n",
              "      <th>2014-04-01</th>\n",
              "      <td>34</td>\n",
              "      <td>488</td>\n",
              "      <td>1089</td>\n",
              "      <td>106333.80</td>\n",
              "    </tr>\n",
              "    <tr>\n",
              "      <th>2014-05-01</th>\n",
              "      <td>34</td>\n",
              "      <td>831</td>\n",
              "      <td>993</td>\n",
              "      <td>192230.40</td>\n",
              "    </tr>\n",
              "    <tr>\n",
              "      <th>2014-06-01</th>\n",
              "      <td>34</td>\n",
              "      <td>753</td>\n",
              "      <td>884</td>\n",
              "      <td>163515.12</td>\n",
              "    </tr>\n",
              "    <tr>\n",
              "      <th>2014-07-01</th>\n",
              "      <td>34</td>\n",
              "      <td>721</td>\n",
              "      <td>797</td>\n",
              "      <td>160185.90</td>\n",
              "    </tr>\n",
              "    <tr>\n",
              "      <th>...</th>\n",
              "      <td>...</td>\n",
              "      <td>...</td>\n",
              "      <td>...</td>\n",
              "      <td>...</td>\n",
              "    </tr>\n",
              "    <tr>\n",
              "      <th>2020-04-01</th>\n",
              "      <td>34</td>\n",
              "      <td>11</td>\n",
              "      <td>466</td>\n",
              "      <td>2164.32</td>\n",
              "    </tr>\n",
              "    <tr>\n",
              "      <th>2020-05-01</th>\n",
              "      <td>34</td>\n",
              "      <td>119</td>\n",
              "      <td>438</td>\n",
              "      <td>22164.32</td>\n",
              "    </tr>\n",
              "    <tr>\n",
              "      <th>2020-06-01</th>\n",
              "      <td>34</td>\n",
              "      <td>605</td>\n",
              "      <td>706</td>\n",
              "      <td>160963.22</td>\n",
              "    </tr>\n",
              "    <tr>\n",
              "      <th>2020-07-01</th>\n",
              "      <td>34</td>\n",
              "      <td>856</td>\n",
              "      <td>951</td>\n",
              "      <td>211002.92</td>\n",
              "    </tr>\n",
              "    <tr>\n",
              "      <th>2020-08-01</th>\n",
              "      <td>34</td>\n",
              "      <td>820</td>\n",
              "      <td>1023</td>\n",
              "      <td>203085.37</td>\n",
              "    </tr>\n",
              "  </tbody>\n",
              "</table>\n",
              "<p>78 rows × 4 columns</p>\n",
              "</div>"
            ],
            "text/plain": [
              "            id  visits  no_of_appts  production\n",
              "0                                              \n",
              "2014-03-01  34       1          960       76.55\n",
              "2014-04-01  34     488         1089   106333.80\n",
              "2014-05-01  34     831          993   192230.40\n",
              "2014-06-01  34     753          884   163515.12\n",
              "2014-07-01  34     721          797   160185.90\n",
              "...         ..     ...          ...         ...\n",
              "2020-04-01  34      11          466     2164.32\n",
              "2020-05-01  34     119          438    22164.32\n",
              "2020-06-01  34     605          706   160963.22\n",
              "2020-07-01  34     856          951   211002.92\n",
              "2020-08-01  34     820         1023   203085.37\n",
              "\n",
              "[78 rows x 4 columns]"
            ]
          },
          "metadata": {
            "tags": []
          },
          "execution_count": 21
        }
      ]
    },
    {
      "cell_type": "code",
      "metadata": {
        "id": "ya4pDUxKoDl2"
      },
      "source": [
        ""
      ],
      "execution_count": null,
      "outputs": []
    }
  ]
}