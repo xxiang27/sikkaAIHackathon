{
  "nbformat": 4,
  "nbformat_minor": 0,
  "metadata": {
    "colab": {
      "name": "single_step_lstm.ipynb",
      "provenance": [],
      "collapsed_sections": []
    },
    "kernelspec": {
      "name": "python3",
      "display_name": "Python 3"
    },
    "language_info": {
      "name": "python"
    }
  },
  "cells": [
    {
      "cell_type": "code",
      "metadata": {
        "id": "yNpEXW-RW4xW"
      },
      "source": [
        "import pandas as pd\n",
        "import numpy as np \n"
      ],
      "execution_count": null,
      "outputs": []
    },
    {
      "cell_type": "code",
      "metadata": {
        "colab": {
          "base_uri": "https://localhost:8080/"
        },
        "collapsed": true,
        "id": "Ln4XUvx4XaWq",
        "outputId": "40536312-b45f-41e8-dbae-5a23a667e776"
      },
      "source": [
        "!pip install pystan==2.19.1.1\n",
        "!pip install prophet\n"
      ],
      "execution_count": null,
      "outputs": [
        {
          "output_type": "stream",
          "text": [
            "Requirement already satisfied: pystan==2.19.1.1 in /usr/local/lib/python3.7/dist-packages (2.19.1.1)\n",
            "Requirement already satisfied: Cython!=0.25.1,>=0.22 in /usr/local/lib/python3.7/dist-packages (from pystan==2.19.1.1) (0.29.23)\n",
            "Requirement already satisfied: numpy>=1.7 in /usr/local/lib/python3.7/dist-packages (from pystan==2.19.1.1) (1.19.5)\n",
            "Collecting prophet\n",
            "\u001b[?25l  Downloading https://files.pythonhosted.org/packages/f0/fa/c382f0ac5abe9f0a4df9d874a5e8843db035fe2f071b5c00a545b1e3c10b/prophet-1.0.1.tar.gz (65kB)\n",
            "\u001b[K     |████████████████████████████████| 71kB 3.2MB/s \n",
            "\u001b[?25hRequirement already satisfied: Cython>=0.22 in /usr/local/lib/python3.7/dist-packages (from prophet) (0.29.23)\n",
            "Collecting cmdstanpy==0.9.68\n",
            "\u001b[?25l  Downloading https://files.pythonhosted.org/packages/08/b9/b4f0938b38dbe775c4def707f525ab816b9d0215ecd8ab2d76780f4514f8/cmdstanpy-0.9.68-py3-none-any.whl (49kB)\n",
            "\u001b[K     |████████████████████████████████| 51kB 5.1MB/s \n",
            "\u001b[?25hRequirement already satisfied: pystan~=2.19.1.1 in /usr/local/lib/python3.7/dist-packages (from prophet) (2.19.1.1)\n",
            "Requirement already satisfied: numpy>=1.15.4 in /usr/local/lib/python3.7/dist-packages (from prophet) (1.19.5)\n",
            "Requirement already satisfied: pandas>=1.0.4 in /usr/local/lib/python3.7/dist-packages (from prophet) (1.1.5)\n",
            "Requirement already satisfied: matplotlib>=2.0.0 in /usr/local/lib/python3.7/dist-packages (from prophet) (3.2.2)\n",
            "Requirement already satisfied: LunarCalendar>=0.0.9 in /usr/local/lib/python3.7/dist-packages (from prophet) (0.0.9)\n",
            "Requirement already satisfied: convertdate>=2.1.2 in /usr/local/lib/python3.7/dist-packages (from prophet) (2.3.2)\n",
            "Requirement already satisfied: holidays>=0.10.2 in /usr/local/lib/python3.7/dist-packages (from prophet) (0.10.5.2)\n",
            "Requirement already satisfied: setuptools-git>=1.2 in /usr/local/lib/python3.7/dist-packages (from prophet) (1.2)\n",
            "Requirement already satisfied: python-dateutil>=2.8.0 in /usr/local/lib/python3.7/dist-packages (from prophet) (2.8.1)\n",
            "Requirement already satisfied: tqdm>=4.36.1 in /usr/local/lib/python3.7/dist-packages (from prophet) (4.41.1)\n",
            "Collecting ujson\n",
            "\u001b[?25l  Downloading https://files.pythonhosted.org/packages/17/4e/50e8e4cf5f00b537095711c2c86ac4d7191aed2b4fffd5a19f06898f6929/ujson-4.0.2-cp37-cp37m-manylinux1_x86_64.whl (179kB)\n",
            "\u001b[K     |████████████████████████████████| 184kB 7.5MB/s \n",
            "\u001b[?25hRequirement already satisfied: pytz>=2017.2 in /usr/local/lib/python3.7/dist-packages (from pandas>=1.0.4->prophet) (2018.9)\n",
            "Requirement already satisfied: kiwisolver>=1.0.1 in /usr/local/lib/python3.7/dist-packages (from matplotlib>=2.0.0->prophet) (1.3.1)\n",
            "Requirement already satisfied: pyparsing!=2.0.4,!=2.1.2,!=2.1.6,>=2.0.1 in /usr/local/lib/python3.7/dist-packages (from matplotlib>=2.0.0->prophet) (2.4.7)\n",
            "Requirement already satisfied: cycler>=0.10 in /usr/local/lib/python3.7/dist-packages (from matplotlib>=2.0.0->prophet) (0.10.0)\n",
            "Requirement already satisfied: ephem>=3.7.5.3 in /usr/local/lib/python3.7/dist-packages (from LunarCalendar>=0.0.9->prophet) (4.0.0.2)\n",
            "Requirement already satisfied: pymeeus<=1,>=0.3.13 in /usr/local/lib/python3.7/dist-packages (from convertdate>=2.1.2->prophet) (0.5.11)\n",
            "Requirement already satisfied: six in /usr/local/lib/python3.7/dist-packages (from holidays>=0.10.2->prophet) (1.15.0)\n",
            "Requirement already satisfied: korean-lunar-calendar in /usr/local/lib/python3.7/dist-packages (from holidays>=0.10.2->prophet) (0.2.1)\n",
            "Requirement already satisfied: hijri-converter in /usr/local/lib/python3.7/dist-packages (from holidays>=0.10.2->prophet) (2.1.3)\n",
            "Building wheels for collected packages: prophet\n",
            "  Building wheel for prophet (setup.py) ... \u001b[?25l\u001b[?25hdone\n",
            "  Created wheel for prophet: filename=prophet-1.0.1-cp37-none-any.whl size=6640345 sha256=cd01660f964621b34a766bda985e2a544c639c7ead6ea6cf9c00e452251b1e94\n",
            "  Stored in directory: /root/.cache/pip/wheels/92/1d/02/bc0a91bd3a84e060722075d2b0b68e875e37ec7dc49451d513\n",
            "Successfully built prophet\n",
            "\u001b[31mERROR: fbprophet 0.7.1 has requirement cmdstanpy==0.9.5, but you'll have cmdstanpy 0.9.68 which is incompatible.\u001b[0m\n",
            "Installing collected packages: ujson, cmdstanpy, prophet\n",
            "  Found existing installation: cmdstanpy 0.9.5\n",
            "    Uninstalling cmdstanpy-0.9.5:\n",
            "      Successfully uninstalled cmdstanpy-0.9.5\n",
            "Successfully installed cmdstanpy-0.9.68 prophet-1.0.1 ujson-4.0.2\n"
          ],
          "name": "stdout"
        }
      ]
    },
    {
      "cell_type": "code",
      "metadata": {
        "colab": {
          "base_uri": "https://localhost:8080/",
          "height": 203
        },
        "id": "UsdlhRYgXgGp",
        "outputId": "1e9e9d68-c035-4c58-91c9-52fd66ca12d9"
      },
      "source": [
        "df = pd.read_csv('https://raw.githubusercontent.com/xxiang27/sikkaAIHackathon/main/data_file.csv')\n",
        "df.head()"
      ],
      "execution_count": null,
      "outputs": [
        {
          "output_type": "execute_result",
          "data": {
            "text/html": [
              "<div>\n",
              "<style scoped>\n",
              "    .dataframe tbody tr th:only-of-type {\n",
              "        vertical-align: middle;\n",
              "    }\n",
              "\n",
              "    .dataframe tbody tr th {\n",
              "        vertical-align: top;\n",
              "    }\n",
              "\n",
              "    .dataframe thead th {\n",
              "        text-align: right;\n",
              "    }\n",
              "</style>\n",
              "<table border=\"1\" class=\"dataframe\">\n",
              "  <thead>\n",
              "    <tr style=\"text-align: right;\">\n",
              "      <th></th>\n",
              "      <th>id</th>\n",
              "      <th>month</th>\n",
              "      <th>year</th>\n",
              "      <th>visits</th>\n",
              "      <th>no_of_appts</th>\n",
              "      <th>production</th>\n",
              "    </tr>\n",
              "  </thead>\n",
              "  <tbody>\n",
              "    <tr>\n",
              "      <th>0</th>\n",
              "      <td>34</td>\n",
              "      <td>3</td>\n",
              "      <td>2014</td>\n",
              "      <td>1</td>\n",
              "      <td>960</td>\n",
              "      <td>76.55</td>\n",
              "    </tr>\n",
              "    <tr>\n",
              "      <th>1</th>\n",
              "      <td>34</td>\n",
              "      <td>4</td>\n",
              "      <td>2014</td>\n",
              "      <td>488</td>\n",
              "      <td>1089</td>\n",
              "      <td>106333.80</td>\n",
              "    </tr>\n",
              "    <tr>\n",
              "      <th>2</th>\n",
              "      <td>34</td>\n",
              "      <td>5</td>\n",
              "      <td>2014</td>\n",
              "      <td>831</td>\n",
              "      <td>993</td>\n",
              "      <td>192230.40</td>\n",
              "    </tr>\n",
              "    <tr>\n",
              "      <th>3</th>\n",
              "      <td>34</td>\n",
              "      <td>6</td>\n",
              "      <td>2014</td>\n",
              "      <td>753</td>\n",
              "      <td>884</td>\n",
              "      <td>163515.12</td>\n",
              "    </tr>\n",
              "    <tr>\n",
              "      <th>4</th>\n",
              "      <td>34</td>\n",
              "      <td>7</td>\n",
              "      <td>2014</td>\n",
              "      <td>721</td>\n",
              "      <td>797</td>\n",
              "      <td>160185.90</td>\n",
              "    </tr>\n",
              "  </tbody>\n",
              "</table>\n",
              "</div>"
            ],
            "text/plain": [
              "   id  month  year  visits  no_of_appts  production\n",
              "0  34      3  2014       1          960       76.55\n",
              "1  34      4  2014     488         1089   106333.80\n",
              "2  34      5  2014     831          993   192230.40\n",
              "3  34      6  2014     753          884   163515.12\n",
              "4  34      7  2014     721          797   160185.90"
            ]
          },
          "metadata": {
            "tags": []
          },
          "execution_count": 105
        }
      ]
    },
    {
      "cell_type": "code",
      "metadata": {
        "colab": {
          "base_uri": "https://localhost:8080/"
        },
        "id": "Qr_jMVHUjoXQ",
        "outputId": "9691510c-1772-459e-cf70-828b3a323d36"
      },
      "source": [
        "df['day'] = 15\n",
        "dates = pd.to_datetime(df[['month', 'year','day']].copy())\n",
        "dates.head()"
      ],
      "execution_count": null,
      "outputs": [
        {
          "output_type": "execute_result",
          "data": {
            "text/plain": [
              "0   2014-03-15\n",
              "1   2014-04-15\n",
              "2   2014-05-15\n",
              "3   2014-06-15\n",
              "4   2014-07-15\n",
              "dtype: datetime64[ns]"
            ]
          },
          "metadata": {
            "tags": []
          },
          "execution_count": 106
        }
      ]
    },
    {
      "cell_type": "code",
      "metadata": {
        "colab": {
          "base_uri": "https://localhost:8080/",
          "height": 203
        },
        "id": "ZI4OZNdRMTeb",
        "outputId": "1960a288-99e5-45b3-c000-47fb338f3094"
      },
      "source": [
        "df_final = pd.concat([dates, df],axis=1)\n",
        "# df_final = df_final.drop(columns = ['month', 'year', 'day'])\n",
        "df_final.columns.values[0] = 'date'\n",
        "df_final.head()"
      ],
      "execution_count": null,
      "outputs": [
        {
          "output_type": "execute_result",
          "data": {
            "text/html": [
              "<div>\n",
              "<style scoped>\n",
              "    .dataframe tbody tr th:only-of-type {\n",
              "        vertical-align: middle;\n",
              "    }\n",
              "\n",
              "    .dataframe tbody tr th {\n",
              "        vertical-align: top;\n",
              "    }\n",
              "\n",
              "    .dataframe thead th {\n",
              "        text-align: right;\n",
              "    }\n",
              "</style>\n",
              "<table border=\"1\" class=\"dataframe\">\n",
              "  <thead>\n",
              "    <tr style=\"text-align: right;\">\n",
              "      <th></th>\n",
              "      <th>date</th>\n",
              "      <th>id</th>\n",
              "      <th>month</th>\n",
              "      <th>year</th>\n",
              "      <th>visits</th>\n",
              "      <th>no_of_appts</th>\n",
              "      <th>production</th>\n",
              "      <th>day</th>\n",
              "    </tr>\n",
              "  </thead>\n",
              "  <tbody>\n",
              "    <tr>\n",
              "      <th>0</th>\n",
              "      <td>2014-03-15</td>\n",
              "      <td>34</td>\n",
              "      <td>3</td>\n",
              "      <td>2014</td>\n",
              "      <td>1</td>\n",
              "      <td>960</td>\n",
              "      <td>76.55</td>\n",
              "      <td>15</td>\n",
              "    </tr>\n",
              "    <tr>\n",
              "      <th>1</th>\n",
              "      <td>2014-04-15</td>\n",
              "      <td>34</td>\n",
              "      <td>4</td>\n",
              "      <td>2014</td>\n",
              "      <td>488</td>\n",
              "      <td>1089</td>\n",
              "      <td>106333.80</td>\n",
              "      <td>15</td>\n",
              "    </tr>\n",
              "    <tr>\n",
              "      <th>2</th>\n",
              "      <td>2014-05-15</td>\n",
              "      <td>34</td>\n",
              "      <td>5</td>\n",
              "      <td>2014</td>\n",
              "      <td>831</td>\n",
              "      <td>993</td>\n",
              "      <td>192230.40</td>\n",
              "      <td>15</td>\n",
              "    </tr>\n",
              "    <tr>\n",
              "      <th>3</th>\n",
              "      <td>2014-06-15</td>\n",
              "      <td>34</td>\n",
              "      <td>6</td>\n",
              "      <td>2014</td>\n",
              "      <td>753</td>\n",
              "      <td>884</td>\n",
              "      <td>163515.12</td>\n",
              "      <td>15</td>\n",
              "    </tr>\n",
              "    <tr>\n",
              "      <th>4</th>\n",
              "      <td>2014-07-15</td>\n",
              "      <td>34</td>\n",
              "      <td>7</td>\n",
              "      <td>2014</td>\n",
              "      <td>721</td>\n",
              "      <td>797</td>\n",
              "      <td>160185.90</td>\n",
              "      <td>15</td>\n",
              "    </tr>\n",
              "  </tbody>\n",
              "</table>\n",
              "</div>"
            ],
            "text/plain": [
              "        date  id  month  year  visits  no_of_appts  production  day\n",
              "0 2014-03-15  34      3  2014       1          960       76.55   15\n",
              "1 2014-04-15  34      4  2014     488         1089   106333.80   15\n",
              "2 2014-05-15  34      5  2014     831          993   192230.40   15\n",
              "3 2014-06-15  34      6  2014     753          884   163515.12   15\n",
              "4 2014-07-15  34      7  2014     721          797   160185.90   15"
            ]
          },
          "metadata": {
            "tags": []
          },
          "execution_count": 108
        }
      ]
    },
    {
      "cell_type": "code",
      "metadata": {
        "id": "sQNLfHGAZcDv"
      },
      "source": [
        "# separate dataframe into separate dataframes for each practice \n",
        "\n",
        "import math \n",
        "\n",
        "def separate(df):\n",
        "  '''takes a dataframe returns a list of dataframes, \n",
        "  one for each unique value under the id column'''\n",
        "  lst = []\n",
        "  grouped = df.groupby(df.id)\n",
        "  for i in range(1, 285):\n",
        "    lst.append(grouped.get_group(i))\n",
        "  return lst \n",
        "\n",
        "def train_test_split(lst, percent):\n",
        "  '''takes a list of dataframes and returns the time series train and test split based on the percent'''\n",
        "  test_set = []\n",
        "  for df in lst:\n",
        "    add_test = math.floor(len(df) * percent)\n",
        "    df_add = df.tail(add_test).copy()\n",
        "    test_set.append(df_add)\n",
        "    df.drop(df.tail(add_test).index, inplace = True)\n",
        "  df_train = pd.concat(lst, ignore_index=True)\n",
        "  df_test = pd.concat(test_set, ignore_index = True)\n",
        "  return df_train, df_test\n",
        "  \n",
        "\n"
      ],
      "execution_count": null,
      "outputs": []
    },
    {
      "cell_type": "code",
      "metadata": {
        "colab": {
          "base_uri": "https://localhost:8080/"
        },
        "id": "YQjt_hm9cp0T",
        "outputId": "63ff2aac-0de0-43f3-88d8-ad6e3c55a457"
      },
      "source": [
        "train_lst = separate(df_final)\n",
        "df_train, df_test = train_test_split(train_lst, 0.2)"
      ],
      "execution_count": null,
      "outputs": [
        {
          "output_type": "stream",
          "text": [
            "/usr/local/lib/python3.7/dist-packages/pandas/core/frame.py:4174: SettingWithCopyWarning: \n",
            "A value is trying to be set on a copy of a slice from a DataFrame\n",
            "\n",
            "See the caveats in the documentation: https://pandas.pydata.org/pandas-docs/stable/user_guide/indexing.html#returning-a-view-versus-a-copy\n",
            "  errors=errors,\n"
          ],
          "name": "stderr"
        }
      ]
    },
    {
      "cell_type": "code",
      "metadata": {
        "colab": {
          "base_uri": "https://localhost:8080/",
          "height": 203
        },
        "id": "D8lKAmsEfc5N",
        "outputId": "2a09a4f9-e009-4dfe-c395-9da45543d11a"
      },
      "source": [
        "df_final = train_lst[0]\n",
        "only_prod = df_final.drop(columns = ['id', 'visits', 'no_of_appts', 'month', 'year'])\n",
        "only_prod = only_prod.rename(columns={0: \"ds\", \"production\": \"y\"})\n",
        "only_prod = only_prod[['date', 'y']]\n",
        "only_prod.head()"
      ],
      "execution_count": null,
      "outputs": [
        {
          "output_type": "execute_result",
          "data": {
            "text/html": [
              "<div>\n",
              "<style scoped>\n",
              "    .dataframe tbody tr th:only-of-type {\n",
              "        vertical-align: middle;\n",
              "    }\n",
              "\n",
              "    .dataframe tbody tr th {\n",
              "        vertical-align: top;\n",
              "    }\n",
              "\n",
              "    .dataframe thead th {\n",
              "        text-align: right;\n",
              "    }\n",
              "</style>\n",
              "<table border=\"1\" class=\"dataframe\">\n",
              "  <thead>\n",
              "    <tr style=\"text-align: right;\">\n",
              "      <th></th>\n",
              "      <th>date</th>\n",
              "      <th>y</th>\n",
              "    </tr>\n",
              "  </thead>\n",
              "  <tbody>\n",
              "    <tr>\n",
              "      <th>10524</th>\n",
              "      <td>2016-10-15</td>\n",
              "      <td>1854.70</td>\n",
              "    </tr>\n",
              "    <tr>\n",
              "      <th>10525</th>\n",
              "      <td>2016-11-15</td>\n",
              "      <td>11352.45</td>\n",
              "    </tr>\n",
              "    <tr>\n",
              "      <th>10526</th>\n",
              "      <td>2016-12-15</td>\n",
              "      <td>17854.65</td>\n",
              "    </tr>\n",
              "    <tr>\n",
              "      <th>10527</th>\n",
              "      <td>2017-01-15</td>\n",
              "      <td>11869.50</td>\n",
              "    </tr>\n",
              "    <tr>\n",
              "      <th>10528</th>\n",
              "      <td>2017-02-15</td>\n",
              "      <td>15596.90</td>\n",
              "    </tr>\n",
              "  </tbody>\n",
              "</table>\n",
              "</div>"
            ],
            "text/plain": [
              "            date         y\n",
              "10524 2016-10-15   1854.70\n",
              "10525 2016-11-15  11352.45\n",
              "10526 2016-12-15  17854.65\n",
              "10527 2017-01-15  11869.50\n",
              "10528 2017-02-15  15596.90"
            ]
          },
          "metadata": {
            "tags": []
          },
          "execution_count": 111
        }
      ]
    },
    {
      "cell_type": "code",
      "metadata": {
        "id": "Ygn2rmdLK9la"
      },
      "source": [
        "import math\n",
        "from keras.models import Sequential\n",
        "from keras.layers import Dense\n",
        "from keras.layers import LSTM\n",
        "from sklearn.preprocessing import MinMaxScaler\n",
        "from sklearn.metrics import mean_squared_error"
      ],
      "execution_count": null,
      "outputs": []
    },
    {
      "cell_type": "code",
      "metadata": {
        "id": "880gHBe1OVyT"
      },
      "source": [
        "np.random.seed(7)"
      ],
      "execution_count": null,
      "outputs": []
    },
    {
      "cell_type": "code",
      "metadata": {
        "id": "31rkMWAcUzGr"
      },
      "source": [
        "only_prod = only_prod.drop(columns = ['date'])"
      ],
      "execution_count": null,
      "outputs": []
    },
    {
      "cell_type": "code",
      "metadata": {
        "id": "wLAfcogxOYvb"
      },
      "source": [
        "dataset = only_prod.values\n",
        "dataset = dataset.astype('float32')"
      ],
      "execution_count": null,
      "outputs": []
    },
    {
      "cell_type": "code",
      "metadata": {
        "id": "43UgVnBNPqYi"
      },
      "source": [
        "# normalize the dataset\n",
        "scaler = MinMaxScaler(feature_range=(0, 1))\n",
        "dataset = scaler.fit_transform(dataset)\n"
      ],
      "execution_count": null,
      "outputs": []
    },
    {
      "cell_type": "code",
      "metadata": {
        "colab": {
          "base_uri": "https://localhost:8080/"
        },
        "id": "qdALi9LtQKjY",
        "outputId": "d705e3fd-a482-4b71-9f2f-0aaaa1079733"
      },
      "source": [
        "# split into train and test sets\n",
        "train_size = int(len(dataset) * 0.67)\n",
        "test_size = len(dataset) - train_size\n",
        "train, test = dataset[0:train_size,:], dataset[train_size:len(dataset),:]\n",
        "print(len(train), len(test))"
      ],
      "execution_count": null,
      "outputs": [
        {
          "output_type": "stream",
          "text": [
            "26 14\n"
          ],
          "name": "stdout"
        }
      ]
    },
    {
      "cell_type": "code",
      "metadata": {
        "id": "7w650_t-QbaQ"
      },
      "source": [
        "# convert an array of values into a dataset matrix\n",
        "def create_dataset(dataset, look_back=1):\n",
        "\tdataX, dataY = [], []\n",
        "\tfor i in range(len(dataset)-look_back-1):\n",
        "\t\ta = dataset[i:(i+look_back), 0]\n",
        "\t\tdataX.append(a)\n",
        "\t\tdataY.append(dataset[i + look_back, 0])\n",
        "\treturn np.array(dataX), np.array(dataY)"
      ],
      "execution_count": null,
      "outputs": []
    },
    {
      "cell_type": "code",
      "metadata": {
        "id": "xABPMzZcQe3-"
      },
      "source": [
        "# reshape into X=t and Y=t+1\n",
        "look_back = 1\n",
        "trainX, trainY = create_dataset(train, look_back)\n",
        "testX, testY = create_dataset(test, look_back)"
      ],
      "execution_count": null,
      "outputs": []
    },
    {
      "cell_type": "code",
      "metadata": {
        "colab": {
          "base_uri": "https://localhost:8080/"
        },
        "id": "_v9zHNncuDRU",
        "outputId": "dbe0fa89-c538-4261-8691-4b8262dd7e6d"
      },
      "source": [
        "testY\n"
      ],
      "execution_count": null,
      "outputs": [
        {
          "output_type": "execute_result",
          "data": {
            "text/plain": [
              "array([[0.9815799 , 0.77105612, 0.80989778, 0.82963032, 0.73337126,\n",
              "        0.77146953, 0.80247176, 0.80638963, 0.74625283, 0.80928618,\n",
              "        0.66501862, 0.51689845]])"
            ]
          },
          "metadata": {
            "tags": []
          },
          "execution_count": 122
        }
      ]
    },
    {
      "cell_type": "code",
      "metadata": {
        "id": "m6Q5-tdMQmQH"
      },
      "source": [
        "# reshape input to be [samples, time steps, features]\n",
        "trainX = np.reshape(trainX, (trainX.shape[0], 1, trainX.shape[1]))\n",
        "testX = np.reshape(testX, (testX.shape[0], 1, testX.shape[1]))"
      ],
      "execution_count": null,
      "outputs": []
    },
    {
      "cell_type": "code",
      "metadata": {
        "colab": {
          "base_uri": "https://localhost:8080/"
        },
        "id": "DnPhCJxBX1aS",
        "outputId": "54bfab95-4ce4-424a-8dc8-4c645b5652a6"
      },
      "source": [
        "# create and fit the LSTM network\n",
        "model = Sequential()\n",
        "model.add(LSTM(4, input_shape=(1, look_back)))\n",
        "model.add(Dense(1))\n",
        "model.compile(loss='mean_squared_error', optimizer='adam')\n",
        "model.fit(trainX, trainY, epochs=100, batch_size=1, verbose=2)"
      ],
      "execution_count": null,
      "outputs": [
        {
          "output_type": "stream",
          "text": [
            "Epoch 1/100\n",
            "24/24 - 2s - loss: 0.2776\n",
            "Epoch 2/100\n",
            "24/24 - 0s - loss: 0.2384\n",
            "Epoch 3/100\n",
            "24/24 - 0s - loss: 0.2007\n",
            "Epoch 4/100\n",
            "24/24 - 0s - loss: 0.1685\n",
            "Epoch 5/100\n",
            "24/24 - 0s - loss: 0.1401\n",
            "Epoch 6/100\n",
            "24/24 - 0s - loss: 0.1145\n",
            "Epoch 7/100\n",
            "24/24 - 0s - loss: 0.0952\n",
            "Epoch 8/100\n",
            "24/24 - 0s - loss: 0.0769\n",
            "Epoch 9/100\n",
            "24/24 - 0s - loss: 0.0632\n",
            "Epoch 10/100\n",
            "24/24 - 0s - loss: 0.0532\n",
            "Epoch 11/100\n",
            "24/24 - 0s - loss: 0.0460\n",
            "Epoch 12/100\n",
            "24/24 - 0s - loss: 0.0404\n",
            "Epoch 13/100\n",
            "24/24 - 0s - loss: 0.0370\n",
            "Epoch 14/100\n",
            "24/24 - 0s - loss: 0.0349\n",
            "Epoch 15/100\n",
            "24/24 - 0s - loss: 0.0334\n",
            "Epoch 16/100\n",
            "24/24 - 0s - loss: 0.0324\n",
            "Epoch 17/100\n",
            "24/24 - 0s - loss: 0.0319\n",
            "Epoch 18/100\n",
            "24/24 - 0s - loss: 0.0316\n",
            "Epoch 19/100\n",
            "24/24 - 0s - loss: 0.0313\n",
            "Epoch 20/100\n",
            "24/24 - 0s - loss: 0.0311\n",
            "Epoch 21/100\n",
            "24/24 - 0s - loss: 0.0309\n",
            "Epoch 22/100\n",
            "24/24 - 0s - loss: 0.0308\n",
            "Epoch 23/100\n",
            "24/24 - 0s - loss: 0.0307\n",
            "Epoch 24/100\n",
            "24/24 - 0s - loss: 0.0304\n",
            "Epoch 25/100\n",
            "24/24 - 0s - loss: 0.0304\n",
            "Epoch 26/100\n",
            "24/24 - 0s - loss: 0.0306\n",
            "Epoch 27/100\n",
            "24/24 - 0s - loss: 0.0302\n",
            "Epoch 28/100\n",
            "24/24 - 0s - loss: 0.0300\n",
            "Epoch 29/100\n",
            "24/24 - 0s - loss: 0.0297\n",
            "Epoch 30/100\n",
            "24/24 - 0s - loss: 0.0297\n",
            "Epoch 31/100\n",
            "24/24 - 0s - loss: 0.0295\n",
            "Epoch 32/100\n",
            "24/24 - 0s - loss: 0.0295\n",
            "Epoch 33/100\n",
            "24/24 - 0s - loss: 0.0293\n",
            "Epoch 34/100\n",
            "24/24 - 0s - loss: 0.0293\n",
            "Epoch 35/100\n",
            "24/24 - 0s - loss: 0.0294\n",
            "Epoch 36/100\n",
            "24/24 - 0s - loss: 0.0289\n",
            "Epoch 37/100\n",
            "24/24 - 0s - loss: 0.0289\n",
            "Epoch 38/100\n",
            "24/24 - 0s - loss: 0.0289\n",
            "Epoch 39/100\n",
            "24/24 - 0s - loss: 0.0287\n",
            "Epoch 40/100\n",
            "24/24 - 0s - loss: 0.0286\n",
            "Epoch 41/100\n",
            "24/24 - 0s - loss: 0.0285\n",
            "Epoch 42/100\n",
            "24/24 - 0s - loss: 0.0283\n",
            "Epoch 43/100\n",
            "24/24 - 0s - loss: 0.0288\n",
            "Epoch 44/100\n",
            "24/24 - 0s - loss: 0.0281\n",
            "Epoch 45/100\n",
            "24/24 - 0s - loss: 0.0281\n",
            "Epoch 46/100\n",
            "24/24 - 0s - loss: 0.0281\n",
            "Epoch 47/100\n",
            "24/24 - 0s - loss: 0.0280\n",
            "Epoch 48/100\n",
            "24/24 - 0s - loss: 0.0278\n",
            "Epoch 49/100\n",
            "24/24 - 0s - loss: 0.0277\n",
            "Epoch 50/100\n",
            "24/24 - 0s - loss: 0.0277\n",
            "Epoch 51/100\n",
            "24/24 - 0s - loss: 0.0278\n",
            "Epoch 52/100\n",
            "24/24 - 0s - loss: 0.0275\n",
            "Epoch 53/100\n",
            "24/24 - 0s - loss: 0.0273\n",
            "Epoch 54/100\n",
            "24/24 - 0s - loss: 0.0274\n",
            "Epoch 55/100\n",
            "24/24 - 0s - loss: 0.0273\n",
            "Epoch 56/100\n",
            "24/24 - 0s - loss: 0.0272\n",
            "Epoch 57/100\n",
            "24/24 - 0s - loss: 0.0273\n",
            "Epoch 58/100\n",
            "24/24 - 0s - loss: 0.0270\n",
            "Epoch 59/100\n",
            "24/24 - 0s - loss: 0.0269\n",
            "Epoch 60/100\n",
            "24/24 - 0s - loss: 0.0271\n",
            "Epoch 61/100\n",
            "24/24 - 0s - loss: 0.0270\n",
            "Epoch 62/100\n",
            "24/24 - 0s - loss: 0.0268\n",
            "Epoch 63/100\n",
            "24/24 - 0s - loss: 0.0272\n",
            "Epoch 64/100\n",
            "24/24 - 0s - loss: 0.0267\n",
            "Epoch 65/100\n",
            "24/24 - 0s - loss: 0.0269\n",
            "Epoch 66/100\n",
            "24/24 - 0s - loss: 0.0267\n",
            "Epoch 67/100\n",
            "24/24 - 0s - loss: 0.0269\n",
            "Epoch 68/100\n",
            "24/24 - 0s - loss: 0.0264\n",
            "Epoch 69/100\n",
            "24/24 - 0s - loss: 0.0263\n",
            "Epoch 70/100\n",
            "24/24 - 0s - loss: 0.0265\n",
            "Epoch 71/100\n",
            "24/24 - 0s - loss: 0.0265\n",
            "Epoch 72/100\n",
            "24/24 - 0s - loss: 0.0262\n",
            "Epoch 73/100\n",
            "24/24 - 0s - loss: 0.0262\n",
            "Epoch 74/100\n",
            "24/24 - 0s - loss: 0.0266\n",
            "Epoch 75/100\n",
            "24/24 - 0s - loss: 0.0267\n",
            "Epoch 76/100\n",
            "24/24 - 0s - loss: 0.0261\n",
            "Epoch 77/100\n",
            "24/24 - 0s - loss: 0.0260\n",
            "Epoch 78/100\n",
            "24/24 - 0s - loss: 0.0260\n",
            "Epoch 79/100\n",
            "24/24 - 0s - loss: 0.0261\n",
            "Epoch 80/100\n",
            "24/24 - 0s - loss: 0.0261\n",
            "Epoch 81/100\n",
            "24/24 - 0s - loss: 0.0261\n",
            "Epoch 82/100\n",
            "24/24 - 0s - loss: 0.0258\n",
            "Epoch 83/100\n",
            "24/24 - 0s - loss: 0.0260\n",
            "Epoch 84/100\n",
            "24/24 - 0s - loss: 0.0258\n",
            "Epoch 85/100\n",
            "24/24 - 0s - loss: 0.0258\n",
            "Epoch 86/100\n",
            "24/24 - 0s - loss: 0.0258\n",
            "Epoch 87/100\n",
            "24/24 - 0s - loss: 0.0258\n",
            "Epoch 88/100\n",
            "24/24 - 0s - loss: 0.0257\n",
            "Epoch 89/100\n",
            "24/24 - 0s - loss: 0.0259\n",
            "Epoch 90/100\n",
            "24/24 - 0s - loss: 0.0257\n",
            "Epoch 91/100\n",
            "24/24 - 0s - loss: 0.0257\n",
            "Epoch 92/100\n",
            "24/24 - 0s - loss: 0.0258\n",
            "Epoch 93/100\n",
            "24/24 - 0s - loss: 0.0256\n",
            "Epoch 94/100\n",
            "24/24 - 0s - loss: 0.0255\n",
            "Epoch 95/100\n",
            "24/24 - 0s - loss: 0.0256\n",
            "Epoch 96/100\n",
            "24/24 - 0s - loss: 0.0256\n",
            "Epoch 97/100\n",
            "24/24 - 0s - loss: 0.0258\n",
            "Epoch 98/100\n",
            "24/24 - 0s - loss: 0.0255\n",
            "Epoch 99/100\n",
            "24/24 - 0s - loss: 0.0256\n",
            "Epoch 100/100\n",
            "24/24 - 0s - loss: 0.0256\n"
          ],
          "name": "stdout"
        },
        {
          "output_type": "execute_result",
          "data": {
            "text/plain": [
              "<keras.callbacks.History at 0x7f1c1900b2d0>"
            ]
          },
          "metadata": {
            "tags": []
          },
          "execution_count": 95
        }
      ]
    },
    {
      "cell_type": "code",
      "metadata": {
        "id": "d7hL9FkeX61b"
      },
      "source": [
        "# make predictions\n",
        "trainPredict = model.predict(trainX)\n",
        "testPredict = model.predict(testX)\n",
        "# invert predictions\n",
        "trainPredict = scaler.inverse_transform(trainPredict)\n",
        "trainY = scaler.inverse_transform([trainY])\n",
        "testPredict = scaler.inverse_transform(testPredict)\n",
        "testY = scaler.inverse_transform([testY])"
      ],
      "execution_count": null,
      "outputs": []
    },
    {
      "cell_type": "code",
      "metadata": {
        "colab": {
          "base_uri": "https://localhost:8080/"
        },
        "id": "2OuHwsM-f2-p",
        "outputId": "b589bd98-7824-4572-a0ac-12e7fad73e68"
      },
      "source": [
        "# calculate root mean squared error\n",
        "trainScore = math.sqrt(mean_squared_error(trainY[0], trainPredict[:,0]))\n",
        "print('Train Score: %.2f RMSE' % (trainScore))\n",
        "testScore = math.sqrt(mean_squared_error(testY[0], testPredict[:,0]))\n",
        "print('Test Score: %.2f RMSE' % (testScore))"
      ],
      "execution_count": null,
      "outputs": [
        {
          "output_type": "stream",
          "text": [
            "Train Score: 0.16 RMSE\n",
            "Test Score: 0.20 RMSE\n"
          ],
          "name": "stdout"
        }
      ]
    },
    {
      "cell_type": "code",
      "metadata": {
        "colab": {
          "base_uri": "https://localhost:8080/",
          "height": 265
        },
        "id": "J2V0p2nkgOaO",
        "outputId": "dc7b44a1-1b53-4eb3-9239-4ad6acbe9661"
      },
      "source": [
        "import matplotlib.pyplot as plt\n",
        "# shift train predictions for plotting\n",
        "trainPredictPlot = np.empty_like(dataset)\n",
        "trainPredictPlot[:, :] = np.nan\n",
        "trainPredictPlot[look_back:len(trainPredict)+look_back, :] = trainPredict\n",
        "# shift test predictions for plotting\n",
        "testPredictPlot = np.empty_like(dataset)\n",
        "testPredictPlot[:, :] = np.nan\n",
        "testPredictPlot[len(trainPredict)+(look_back*2)+1:len(dataset)-1, :] = testPredict\n",
        "# plot baseline and predictions\n",
        "plt.plot(scaler.inverse_transform(dataset))\n",
        "plt.plot(trainPredictPlot)\n",
        "plt.plot(testPredictPlot)\n",
        "plt.show()"
      ],
      "execution_count": null,
      "outputs": [
        {
          "output_type": "display_data",
          "data": {
            "image/png": "[encoded data removed]",
            "text/plain": [
              "<Figure size 432x288 with 1 Axes>"
            ]
          },
          "metadata": {
            "tags": [],
            "needs_background": "light"
          }
        }
      ]
    },
    {
      "cell_type": "code",
      "metadata": {
        "id": "vniaDkbWXjJy"
      },
      "source": [
        ""
      ],
      "execution_count": null,
      "outputs": []
    }
  ]
}